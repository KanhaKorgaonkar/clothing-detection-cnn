{
  "nbformat": 4,
  "nbformat_minor": 0,
  "metadata": {
    "colab": {
      "provenance": [],
      "authorship_tag": "ABX9TyMav21dlA4K2pK/SRih0IfA",
      "include_colab_link": true
    },
    "kernelspec": {
      "name": "python3",
      "display_name": "Python 3"
    },
    "language_info": {
      "name": "python"
    }
  },
  "cells": [
    {
      "cell_type": "markdown",
      "metadata": {
        "id": "view-in-github",
        "colab_type": "text"
      },
      "source": [
        "<a href=\"https://colab.research.google.com/github/KanhaKorgaonkar/clothing-detection-cnn/blob/main/CNN.ipynb\" target=\"_parent\"><img src=\"https://colab.research.google.com/assets/colab-badge.svg\" alt=\"Open In Colab\"/></a>"
      ]
    },
    {
      "cell_type": "code",
      "execution_count": 2,
      "metadata": {
        "id": "IbjIFqwVZCKr"
      },
      "outputs": [],
      "source": [
        "import torch # deep learning library\n",
        "import torchvision # provides datasets and image transformations\n",
        "import torchvision.transforms as transforms\n",
        "import torchvision.datasets as datasets\n",
        "# neural network\n",
        "import torch.nn as nn\n",
        "#import non linear functions like ReLu\n",
        "import torch.nn.functional as F\n",
        "# computational graph for backpropogation (taking the error rate of forward propogation and mitigating it later)\n",
        "from torch.autograd import Variable"
      ]
    },
    {
      "cell_type": "code",
      "source": [
        "# initializing hyperparameters\n",
        "num_epochs = 8 # epoch number is the number of training rounds\n",
        "num_classes = 10 # num_of classes is the number of types of objects/object classes - like tshirt, trouser, coat, sandal etc\n",
        "batch_size = 100 # minibatch gradient descent - uses a predefined number of samples from the training set in one epoch.\n",
        "learning_rate = 0.001 # rate at which algorithm converges to a solution -  if the learning rate is too low, gradient descent will take more time to reach the optima. Conversely, if the learning rate is too big, the gradient descent might start to diverge, and it’ll never reach the optimal solution."
      ],
      "metadata": {
        "id": "fQOm4DslZJWU"
      },
      "execution_count": 3,
      "outputs": []
    },
    {
      "cell_type": "code",
      "source": [
        "# retrieve the data set\n",
        "# load the data set\n",
        "transform = transforms.Compose([transforms.ToTensor(), transforms.Normalize((0.5,), (0.5,))])\n",
        "  # tensor is the data structure used in ML, it has multiple types, like vector, scalar, matrix\n",
        "  # input image is first transformed to tensor, and then normalized in R, G and B by mean and standard deviation of 0.5. each data is reduced and divided by 0.5 to have zero mean and unit variance which improves model performance\n",
        "train_dataset = datasets.FashionMNIST(root='./data', train=True, download=True, transform=transform)\n",
        "test_dataset = datasets.FashionMNIST(root='./data', train=False, download=True, transform=transform)\n"
      ],
      "metadata": {
        "id": "dr_NDS2AaC0c"
      },
      "execution_count": 72,
      "outputs": []
    },
    {
      "cell_type": "code",
      "source": [
        "# now to put this in a data loader (object) for better accessibility\n",
        "train_loader = torch.utils.data.DataLoader(dataset=train_dataset, batch_size=batch_size, shuffle=True)\n",
        "#shuffle is used to remove bias from training data\n",
        "test_loader = torch.utils.data.DataLoader(dataset=test_dataset, batch_size=batch_size, shuffle=False)\n",
        "\n"
      ],
      "metadata": {
        "id": "eJo-tGg1aHCD"
      },
      "execution_count": 73,
      "outputs": []
    },
    {
      "cell_type": "code",
      "source": [
        "# Constructing the Convolutional Neural Network\n",
        "class CNNModel(nn.Module):\n",
        "  # nn.Module is the base class of all layered neural network modules\n",
        "  # this convolutional neural network features two convolutional layers each followed by a nonlinear function (RectifiedLinearuUnit) and a max pooling layer followed by a fullyconnected layer and softmax (assigning probabilities) for linear regression.\n",
        "  def __init__(self):\n",
        "    super(CNNModel, self).__init__()\n",
        "\n",
        "    # Convolution 1\n",
        "    # 1 input channel (grayscale image), produces 16 output channels\n",
        "    # the convolution kernel size = 5x5, padding of 2 is added to preserve spatial dimensions\n",
        "    # stride = 1 so that convolution kernel moves one pixel at a time\n",
        "    self.cnn1 = nn.Conv2d(in_channels=1, out_channels=16, kernel_size=5, stride=1, padding=2)\n",
        "    # relu rectified linear unit layer introduces non linearity and allows it to learn complex patterns but its expensive\n",
        "    self.relu1 = nn.ReLU()\n",
        "\n",
        "    # Max Pool 1 - pooling reduces the kernel size/spatial dimensions by half\n",
        "    self.maxpool1 = nn.MaxPool2d(kernel_size=2)\n",
        "\n",
        "    # Convolution 2\n",
        "    self.cnn2 = nn.Conv2d(in_channels=16, out_channels=32, kernel_size=5, stride=1, padding=2)\n",
        "    self.relu2 = nn.ReLU()\n",
        "\n",
        "    # Max Pool 2\n",
        "    self.maxpool2 = nn.MaxPool2d(kernel_size = 2)\n",
        "\n",
        "    # Dropout for Regularization before the fully connected layer to make sure that there's no overfitting\n",
        "    self.dropout = nn.Dropout(p=0.5)\n",
        "\n",
        "    # Fully Connected Layer 1 - multiply number of outputs by spatial dimensions, 10 is the number of classes for the classification\n",
        "    self.fc1 = nn.Linear(32*7*7, 10)\n",
        "\n",
        "  def forward(self, x):\n",
        "  # applying each layer to the input + dropout data for forward propagation\n",
        "  # convolution 1\n",
        "    out = self.cnn1(x)\n",
        "    out = self.relu1(out)\n",
        "\n",
        "    # Max Pool 1\n",
        "    out = self.maxpool1(out)\n",
        "\n",
        "    # Conv 2\n",
        "    out = self.cnn2(out)\n",
        "    out = self.relu2(out)\n",
        "\n",
        "    #Max Pool 2\n",
        "    out = self.maxpool2(out)\n",
        "\n",
        "    #resize - flatten the data to one dimension\n",
        "    out = out.view(out.size(0), -1)\n",
        "    #dropout\n",
        "    out = self.dropout(out)\n",
        "\n",
        "    #fully connected 1\n",
        "    out = self.fc1(out)\n",
        "    return out\n",
        "\n"
      ],
      "metadata": {
        "id": "7Isy8wtTdAeN"
      },
      "execution_count": 88,
      "outputs": []
    },
    {
      "cell_type": "code",
      "source": [],
      "metadata": {
        "id": "otXVY0lrhQno"
      },
      "execution_count": 75,
      "outputs": []
    },
    {
      "cell_type": "code",
      "source": [
        "model = CNNModel()\n",
        "# creating instance of class (we've created a class to determine the layers and forward propagation of a CNN, but we haven't yet created a neural net)"
      ],
      "metadata": {
        "id": "HkQ1yMuJhkY5"
      },
      "execution_count": 89,
      "outputs": []
    },
    {
      "cell_type": "code",
      "source": [
        "criterion = nn.CrossEntropyLoss()\n",
        "# cross entropy loss lets us deterimine the labels from the output of the neural net\n",
        "\n",
        "# From ChatGPT:\n",
        "#In a classification task, the output of a neural network is typically a vector of scores or logits representing the predicted probabilities for each class. These scores can be interpreted as the model's confidence or belief in the input belonging to each class.\n",
        "#The cross-entropy loss function, when used in conjunction with softmax activation, helps to determine the most probable label for a given input based on the predicted scores. Here's a step-by-step explanation of how it works:\n",
        "# Softmax activation: The first step is to apply the softmax activation function to the output scores. Softmax converts the scores into a probability distribution over the classes, ensuring that the predicted values sum up to 1 and are between 0 and 1. This distribution represents the model's predicted probabilities for each class.\n",
        "# Target labels: Alongside the input data, you have the target labels that indicate the true class for each input sample. These labels are represented as one-hot encoded vectors, where only the element corresponding to the true class is 1, and the rest are 0.\n",
        "# Calculating loss: The cross-entropy loss compares the predicted probabilities (obtained from softmax) with the target labels. It calculates the dissimilarity or discrepancy between the predicted distribution and the true distribution of the labels. The loss value is higher when the predicted probabilities deviate from the true labels.\n",
        "# Minimizing loss: During the training process, the goal is to minimize the cross-entropy loss. This is achieved by adjusting the model's parameters (weights and biases) using optimization techniques like backpropagation and gradient descent. The optimization process updates the model's parameters to improve the agreement between the predicted probabilities and the true labels, ultimately making the model better at classifying the input data.\n",
        "# In summary, the cross-entropy loss, when used with softmax activation, enables the neural network to output a predicted probability distribution over the classes. By comparing this distribution with the true labels, the loss function guides the training process by quantifying the disagreement between the predictions and the ground truth. Through optimization, the model learns to adjust its parameters to minimize this disagreement and improve its ability to assign correct labels to the input data.\n"
      ],
      "metadata": {
        "id": "QPKFXI8ZiXDZ"
      },
      "execution_count": 90,
      "outputs": []
    },
    {
      "cell_type": "code",
      "source": [
        "optimizer = torch.optim.Adam(model.parameters(), lr = learning_rate)\n",
        "# ADAM = Adaptive Moment Estimation. Optimizer is responsible for adjusting the parameters of the model during training to minimize loss and improve performance. This is used to initialize the softmax function with the learning rate."
      ],
      "metadata": {
        "id": "tQJ4ECL4iivI"
      },
      "execution_count": 91,
      "outputs": []
    },
    {
      "cell_type": "code",
      "source": [
        "# TRAIN THE MODEL\n",
        "iter = 0\n",
        "for epoch in range(num_epochs):\n",
        "    for i, (images, labels) in enumerate(train_loader):\n",
        "        images = Variable(images)\n",
        "        labels = Variable(labels)\n",
        "\n",
        "        # clear the gradients\n",
        "        optimizer.zero_grad()\n",
        "        # forward propagation\n",
        "        outputs = model(images)\n",
        "        # calculating loss with softmax to obtain cross entropy loss\n",
        "        loss = criterion(outputs, labels)\n",
        "        # backward propagation\n",
        "        loss.backward()\n",
        "        #updating gradients\n",
        "        optimizer.step()\n",
        "        iter += 1\n",
        "\n",
        "        # total number of labels\n",
        "        total = labels.size(0)\n",
        "\n",
        "        #obtaining predictions from max value\n",
        "        _, predicted = torch.max(outputs.data, 1)\n",
        "\n",
        "        # calculate the number of correct answers\n",
        "        correct = (predicted == labels).sum().item()\n",
        "\n",
        "        # Print loss and accuracy\n",
        "        if (i+1) % 100 == 0:\n",
        "          print('✨ Epoch [{}/{}], Step [{}/{}], Loss: {:.4f}, Accuracy: {:.2f}%' .format(epoch + 1, num_epochs, i + 1, len(train_loader), loss.item(),\n",
        "                          (correct / total) * 100))"
      ],
      "metadata": {
        "colab": {
          "base_uri": "https://localhost:8080/",
          "height": 0
        },
        "id": "nqZjyDXWkI6I",
        "outputId": "fe780c1c-eccd-459b-efce-15883292d8b0"
      },
      "execution_count": 92,
      "outputs": [
        {
          "output_type": "stream",
          "name": "stdout",
          "text": [
            "✨ Epoch [1/8], Step [100/600], Loss: 0.6356, Accuracy: 79.00%\n",
            "✨ Epoch [1/8], Step [200/600], Loss: 0.6904, Accuracy: 72.00%\n",
            "✨ Epoch [1/8], Step [300/600], Loss: 0.5433, Accuracy: 81.00%\n",
            "✨ Epoch [1/8], Step [400/600], Loss: 0.4884, Accuracy: 80.00%\n",
            "✨ Epoch [1/8], Step [500/600], Loss: 0.4662, Accuracy: 81.00%\n",
            "✨ Epoch [1/8], Step [600/600], Loss: 0.5568, Accuracy: 79.00%\n",
            "✨ Epoch [2/8], Step [100/600], Loss: 0.4179, Accuracy: 82.00%\n",
            "✨ Epoch [2/8], Step [200/600], Loss: 0.2346, Accuracy: 93.00%\n",
            "✨ Epoch [2/8], Step [300/600], Loss: 0.2622, Accuracy: 90.00%\n",
            "✨ Epoch [2/8], Step [400/600], Loss: 0.3853, Accuracy: 88.00%\n",
            "✨ Epoch [2/8], Step [500/600], Loss: 0.3399, Accuracy: 84.00%\n",
            "✨ Epoch [2/8], Step [600/600], Loss: 0.4219, Accuracy: 88.00%\n",
            "✨ Epoch [3/8], Step [100/600], Loss: 0.4179, Accuracy: 87.00%\n",
            "✨ Epoch [3/8], Step [200/600], Loss: 0.3154, Accuracy: 88.00%\n",
            "✨ Epoch [3/8], Step [300/600], Loss: 0.4229, Accuracy: 87.00%\n",
            "✨ Epoch [3/8], Step [400/600], Loss: 0.3210, Accuracy: 88.00%\n",
            "✨ Epoch [3/8], Step [500/600], Loss: 0.2861, Accuracy: 90.00%\n",
            "✨ Epoch [3/8], Step [600/600], Loss: 0.4539, Accuracy: 83.00%\n",
            "✨ Epoch [4/8], Step [100/600], Loss: 0.3698, Accuracy: 83.00%\n",
            "✨ Epoch [4/8], Step [200/600], Loss: 0.2665, Accuracy: 89.00%\n",
            "✨ Epoch [4/8], Step [300/600], Loss: 0.3681, Accuracy: 88.00%\n",
            "✨ Epoch [4/8], Step [400/600], Loss: 0.2154, Accuracy: 92.00%\n",
            "✨ Epoch [4/8], Step [500/600], Loss: 0.2814, Accuracy: 90.00%\n",
            "✨ Epoch [4/8], Step [600/600], Loss: 0.2716, Accuracy: 89.00%\n",
            "✨ Epoch [5/8], Step [100/600], Loss: 0.3495, Accuracy: 85.00%\n",
            "✨ Epoch [5/8], Step [200/600], Loss: 0.2474, Accuracy: 93.00%\n",
            "✨ Epoch [5/8], Step [300/600], Loss: 0.5368, Accuracy: 81.00%\n",
            "✨ Epoch [5/8], Step [400/600], Loss: 0.2522, Accuracy: 92.00%\n",
            "✨ Epoch [5/8], Step [500/600], Loss: 0.3735, Accuracy: 89.00%\n",
            "✨ Epoch [5/8], Step [600/600], Loss: 0.2550, Accuracy: 90.00%\n",
            "✨ Epoch [6/8], Step [100/600], Loss: 0.2732, Accuracy: 91.00%\n",
            "✨ Epoch [6/8], Step [200/600], Loss: 0.3918, Accuracy: 87.00%\n",
            "✨ Epoch [6/8], Step [300/600], Loss: 0.4351, Accuracy: 86.00%\n",
            "✨ Epoch [6/8], Step [400/600], Loss: 0.3179, Accuracy: 88.00%\n",
            "✨ Epoch [6/8], Step [500/600], Loss: 0.3391, Accuracy: 87.00%\n",
            "✨ Epoch [6/8], Step [600/600], Loss: 0.1972, Accuracy: 92.00%\n",
            "✨ Epoch [7/8], Step [100/600], Loss: 0.2101, Accuracy: 94.00%\n",
            "✨ Epoch [7/8], Step [200/600], Loss: 0.1669, Accuracy: 94.00%\n",
            "✨ Epoch [7/8], Step [300/600], Loss: 0.3217, Accuracy: 88.00%\n",
            "✨ Epoch [7/8], Step [400/600], Loss: 0.2429, Accuracy: 89.00%\n",
            "✨ Epoch [7/8], Step [500/600], Loss: 0.3050, Accuracy: 89.00%\n",
            "✨ Epoch [7/8], Step [600/600], Loss: 0.2278, Accuracy: 94.00%\n",
            "✨ Epoch [8/8], Step [100/600], Loss: 0.2403, Accuracy: 90.00%\n",
            "✨ Epoch [8/8], Step [200/600], Loss: 0.2651, Accuracy: 90.00%\n",
            "✨ Epoch [8/8], Step [300/600], Loss: 0.2402, Accuracy: 90.00%\n",
            "✨ Epoch [8/8], Step [400/600], Loss: 0.2640, Accuracy: 90.00%\n",
            "✨ Epoch [8/8], Step [500/600], Loss: 0.3452, Accuracy: 85.00%\n",
            "✨ Epoch [8/8], Step [600/600], Loss: 0.2263, Accuracy: 88.00%\n"
          ]
        }
      ]
    },
    {
      "cell_type": "code",
      "source": [
        "# now test the model!\n",
        "with torch.no_grad():\n",
        "  correct = 0\n",
        "  total = 0\n",
        "  for images, labels in test_loader:\n",
        "    images = Variable(images)\n",
        "    labels = Variable(labels)\n",
        "    outputs = model(images)\n",
        "    _, predicted = torch.max(outputs.data, 1)\n",
        "    total += labels.size(0)\n",
        "    correct += (predicted == labels).sum().item()\n",
        "\n",
        "  print('Test Accuracy of the model on the 10000 test images: {}%'.format(100*correct/total))"
      ],
      "metadata": {
        "colab": {
          "base_uri": "https://localhost:8080/",
          "height": 0
        },
        "id": "psliRumcCdcP",
        "outputId": "3dee543e-8490-469b-cd6a-3ffb88f70680"
      },
      "execution_count": 93,
      "outputs": [
        {
          "output_type": "stream",
          "name": "stdout",
          "text": [
            "Test Accuracy of the model on the 10000 test images: 89.18%\n"
          ]
        }
      ]
    },
    {
      "cell_type": "code",
      "source": [
        "import matplotlib.pyplot as plt\n",
        "\n",
        "# Set the model to evaluation mode\n",
        "model.eval()\n",
        "\n",
        "# Iterate over a few samples from the test dataset\n",
        "num_samples = 5\n",
        "for i, (images, labels) in enumerate(test_loader):\n",
        "    # Forward propagation\n",
        "    outputs = model(images)\n",
        "    _, predicted = torch.max(outputs, 1)\n",
        "\n",
        "    # Convert tensors to numpy arrays\n",
        "    images = images.numpy()\n",
        "    labels = labels.numpy()\n",
        "    predicted = predicted.numpy()\n",
        "\n",
        "    # Plot the images and display the predictions\n",
        "    for j in range(num_samples):\n",
        "        plt.subplot(1, num_samples, j+1)\n",
        "        plt.imshow(images[j].squeeze(), cmap='gray')\n",
        "        plt.title(f\"Predicted: {predicted[j]}, Actual: {labels[j]}\", fontsize=5)\n",
        "        plt.axis('off')\n",
        "    plt.show()\n",
        "\n",
        "    # Display only a few samples\n",
        "    if i == num_samples - 1:\n",
        "        break"
      ],
      "metadata": {
        "colab": {
          "base_uri": "https://localhost:8080/",
          "height": 607
        },
        "id": "5Iyb7L1YDdli",
        "outputId": "d363849a-74d9-4e29-dd24-3fc046492e35"
      },
      "execution_count": 107,
      "outputs": [
        {
          "output_type": "display_data",
          "data": {
            "text/plain": [
              "<Figure size 640x480 with 5 Axes>"
            ],
            "image/png": "[encoded data removed]"
          },
          "metadata": {}
        },
        {
          "output_type": "display_data",
          "data": {
            "text/plain": [
              "<Figure size 640x480 with 5 Axes>"
            ],
            "image/png": "[encoded data removed]"
          },
          "metadata": {}
        },
        {
          "output_type": "display_data",
          "data": {
            "text/plain": [
              "<Figure size 640x480 with 5 Axes>"
            ],
            "image/png": "[encoded data removed]"
          },
          "metadata": {}
        },
        {
          "output_type": "display_data",
          "data": {
            "text/plain": [
              "<Figure size 640x480 with 5 Axes>"
            ],
            "image/png": "[encoded data removed]"
          },
          "metadata": {}
        },
        {
          "output_type": "display_data",
          "data": {
            "text/plain": [
              "<Figure size 640x480 with 5 Axes>"
            ],
            "image/png": "[encoded data removed]"
          },
          "metadata": {}
        }
      ]
    }
  ]
}